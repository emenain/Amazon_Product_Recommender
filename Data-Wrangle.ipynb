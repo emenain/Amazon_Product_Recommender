{
 "cells": [
  {
   "cell_type": "markdown",
   "metadata": {},
   "source": [
    "# Data Clean-up and Wrangling of Amazon Product Reviews Dataset"
   ]
  },
  {
   "cell_type": "markdown",
   "metadata": {},
   "source": [
    "## Data Wrangling \n",
    "\n",
    "The Amazon Customer Reviews and Product Metadata can be found [here](https://nijianmo.github.io/amazon/index.html). \n",
    "The Dataset is an updated version of the Amazon review dataset realease in 2014.  This dataset includes reviews (ratings, text, helpfulness votes), product metadata (descriptions, category information, price, brand, and image features). For each product category there are 2 different datasets that can be dowbload: \n",
    "\n",
    "- reviews: raw review data\n",
    "- metadata: includes product descriptions, price, sales-rank, and co-purchasing links."
   ]
  },
  {
   "cell_type": "markdown",
   "metadata": {},
   "source": [
    "**Reviews**\n",
    "- reviewerID - ID of the reviewer, e.g. A2SUAM1J3GNN3B\n",
    "- asin - ID of the product, e.g. 0000013714\n",
    "- reviewerName - name of the reviewer **(Deleted)**\n",
    "- vote - helpful votes of the review **(Deleted)**\n",
    "- style - a dictionary of the product metadata, e.g., \"Format\" is \"Hardcover\" **(Deleted)**\n",
    "- reviewText - text of the review\n",
    "- overall - rating of the product\n",
    "- summary - summary of the review\n",
    "- unixReviewTime - time of the review (unix time) **converted to readable date and renamed to 'reviewDate'**\n",
    "- reviewTime - time of the review (raw) **(Deleted)**\n",
    "- image - images that users post after they have received the product **(Deleted)**\n",
    "- month - the month the product was reviewed - extracted from reviewDate **(Added)**\n",
    "- year - the year the product was reviewed - extracted from reviewDate **(Added)**\n",
    "\n",
    "**metadata**\n",
    "- asin - ID of the product, e.g. 0000031852\n",
    "- title - name of the product\n",
    "- feature - bullet-point format features of the product\n",
    "- description - description of the product\n",
    "- price - price in US dollars (at time of crawl)\n",
    "- image - url of the product image\n",
    "- related - related products (also bought, also viewed, bought together, buy after viewing)\n",
    "- salesRank - sales rank information\n",
    "- brand - brand name\n",
    "- categories - list of categories the product belongs to **(Deleted)**\n",
    "- tech1 - the first technical detail table of the product\n",
    "- tech2 - the second technical detail table of the product\n",
    "- similar - similar product table\n",
    "- fit - all rows contained empty spaces **(Deleted)**\n",
    "\n",
    "We found that:\n",
    "- The Appliances dataset contains 602,777 rows and 12 columns\n",
    "- image, vote and style columns had 98%, 89% and 77% nulls values respectively - therefore those columns were deleted. \n",
    "- reviewText has 0.05% missing values - the rows with missing values will be deleted as they will not affect our dataset. \n",
    "- summary has 0.02% missing values - the rows with missing values will be deleted as they will not affect our dataset. "
   ]
  },
  {
   "cell_type": "code",
   "execution_count": 3,
   "metadata": {},
   "outputs": [],
   "source": [
    "# import required libraries \n",
    "import pandas as pd\n",
    "import numpy as np\n",
    "import json\n",
    "import gzip\n",
    "import os\n",
    "import re"
   ]
  },
  {
   "cell_type": "code",
   "execution_count": 4,
   "metadata": {},
   "outputs": [
    {
     "name": "stdout",
     "output_type": "stream",
     "text": [
      "Total number of reviews:602777\n"
     ]
    }
   ],
   "source": [
    "# load the product reviews dataset\n",
    "review_df = pd.read_json(\"data/Appliances.json.gz\", compression='gzip',lines=True)   \n",
    "print('Total number of reviews:' + str(len(review_df)))\n"
   ]
  },
  {
   "cell_type": "code",
   "execution_count": 5,
   "metadata": {},
   "outputs": [
    {
     "name": "stdout",
     "output_type": "stream",
     "text": [
      "Number of rows and columns in dataset: (602777, 12)\n"
     ]
    }
   ],
   "source": [
    "print('Number of rows and columns in dataset: ' + str(review_df.shape))"
   ]
  },
  {
   "cell_type": "code",
   "execution_count": 6,
   "metadata": {},
   "outputs": [
    {
     "data": {
      "text/html": [
       "<div>\n",
       "<style scoped>\n",
       "    .dataframe tbody tr th:only-of-type {\n",
       "        vertical-align: middle;\n",
       "    }\n",
       "\n",
       "    .dataframe tbody tr th {\n",
       "        vertical-align: top;\n",
       "    }\n",
       "\n",
       "    .dataframe thead th {\n",
       "        text-align: right;\n",
       "    }\n",
       "</style>\n",
       "<table border=\"1\" class=\"dataframe\">\n",
       "  <thead>\n",
       "    <tr style=\"text-align: right;\">\n",
       "      <th></th>\n",
       "      <th>overall</th>\n",
       "      <th>vote</th>\n",
       "      <th>verified</th>\n",
       "      <th>reviewTime</th>\n",
       "      <th>reviewerID</th>\n",
       "      <th>asin</th>\n",
       "      <th>style</th>\n",
       "      <th>reviewerName</th>\n",
       "      <th>reviewText</th>\n",
       "      <th>summary</th>\n",
       "      <th>unixReviewTime</th>\n",
       "      <th>image</th>\n",
       "    </tr>\n",
       "  </thead>\n",
       "  <tbody>\n",
       "    <tr>\n",
       "      <th>0</th>\n",
       "      <td>5</td>\n",
       "      <td>2</td>\n",
       "      <td>False</td>\n",
       "      <td>11 27, 2013</td>\n",
       "      <td>A3NHUQ33CFH3VM</td>\n",
       "      <td>1118461304</td>\n",
       "      <td>{'Format:': ' Hardcover'}</td>\n",
       "      <td>Greeny</td>\n",
       "      <td>Not one thing in this book seemed an obvious o...</td>\n",
       "      <td>Clear on what leads to innovation</td>\n",
       "      <td>1385510400</td>\n",
       "      <td>NaN</td>\n",
       "    </tr>\n",
       "    <tr>\n",
       "      <th>1</th>\n",
       "      <td>5</td>\n",
       "      <td>NaN</td>\n",
       "      <td>False</td>\n",
       "      <td>11 1, 2013</td>\n",
       "      <td>A3SK6VNBQDNBJE</td>\n",
       "      <td>1118461304</td>\n",
       "      <td>{'Format:': ' Kindle Edition'}</td>\n",
       "      <td>Leif C. Ulstrup</td>\n",
       "      <td>I have enjoyed Dr. Alan Gregerman's weekly blo...</td>\n",
       "      <td>Becoming more innovative by opening yourself t...</td>\n",
       "      <td>1383264000</td>\n",
       "      <td>NaN</td>\n",
       "    </tr>\n",
       "    <tr>\n",
       "      <th>2</th>\n",
       "      <td>5</td>\n",
       "      <td>NaN</td>\n",
       "      <td>False</td>\n",
       "      <td>10 10, 2013</td>\n",
       "      <td>A3SOFHUR27FO3K</td>\n",
       "      <td>1118461304</td>\n",
       "      <td>{'Format:': ' Hardcover'}</td>\n",
       "      <td>Harry Gilbert Miller III</td>\n",
       "      <td>Alan Gregerman believes that innovation comes ...</td>\n",
       "      <td>The World from Different Perspectives</td>\n",
       "      <td>1381363200</td>\n",
       "      <td>NaN</td>\n",
       "    </tr>\n",
       "    <tr>\n",
       "      <th>3</th>\n",
       "      <td>5</td>\n",
       "      <td>NaN</td>\n",
       "      <td>False</td>\n",
       "      <td>10 9, 2013</td>\n",
       "      <td>A1HOG1PYCAE157</td>\n",
       "      <td>1118461304</td>\n",
       "      <td>{'Format:': ' Hardcover'}</td>\n",
       "      <td>Rebecca Ripley</td>\n",
       "      <td>Alan Gregerman is a smart, funny, entertaining...</td>\n",
       "      <td>Strangers are Your New Best Friends</td>\n",
       "      <td>1381276800</td>\n",
       "      <td>NaN</td>\n",
       "    </tr>\n",
       "    <tr>\n",
       "      <th>4</th>\n",
       "      <td>5</td>\n",
       "      <td>10</td>\n",
       "      <td>False</td>\n",
       "      <td>09 7, 2013</td>\n",
       "      <td>A26JGAM6GZMM4V</td>\n",
       "      <td>1118461304</td>\n",
       "      <td>{'Format:': ' Hardcover'}</td>\n",
       "      <td>Robert Morris</td>\n",
       "      <td>As I began to read this book, I was again remi...</td>\n",
       "      <td>How and why it is imperative to engage, learn ...</td>\n",
       "      <td>1378512000</td>\n",
       "      <td>NaN</td>\n",
       "    </tr>\n",
       "  </tbody>\n",
       "</table>\n",
       "</div>"
      ],
      "text/plain": [
       "   overall vote  verified   reviewTime      reviewerID        asin  \\\n",
       "0        5    2     False  11 27, 2013  A3NHUQ33CFH3VM  1118461304   \n",
       "1        5  NaN     False   11 1, 2013  A3SK6VNBQDNBJE  1118461304   \n",
       "2        5  NaN     False  10 10, 2013  A3SOFHUR27FO3K  1118461304   \n",
       "3        5  NaN     False   10 9, 2013  A1HOG1PYCAE157  1118461304   \n",
       "4        5   10     False   09 7, 2013  A26JGAM6GZMM4V  1118461304   \n",
       "\n",
       "                            style              reviewerName  \\\n",
       "0       {'Format:': ' Hardcover'}                    Greeny   \n",
       "1  {'Format:': ' Kindle Edition'}           Leif C. Ulstrup   \n",
       "2       {'Format:': ' Hardcover'}  Harry Gilbert Miller III   \n",
       "3       {'Format:': ' Hardcover'}            Rebecca Ripley   \n",
       "4       {'Format:': ' Hardcover'}             Robert Morris   \n",
       "\n",
       "                                          reviewText  \\\n",
       "0  Not one thing in this book seemed an obvious o...   \n",
       "1  I have enjoyed Dr. Alan Gregerman's weekly blo...   \n",
       "2  Alan Gregerman believes that innovation comes ...   \n",
       "3  Alan Gregerman is a smart, funny, entertaining...   \n",
       "4  As I began to read this book, I was again remi...   \n",
       "\n",
       "                                             summary  unixReviewTime image  \n",
       "0                  Clear on what leads to innovation      1385510400   NaN  \n",
       "1  Becoming more innovative by opening yourself t...      1383264000   NaN  \n",
       "2              The World from Different Perspectives      1381363200   NaN  \n",
       "3                Strangers are Your New Best Friends      1381276800   NaN  \n",
       "4  How and why it is imperative to engage, learn ...      1378512000   NaN  "
      ]
     },
     "execution_count": 6,
     "metadata": {},
     "output_type": "execute_result"
    }
   ],
   "source": [
    "#check what the data looks like \n",
    "review_df.head()"
   ]
  },
  {
   "cell_type": "markdown",
   "metadata": {},
   "source": [
    "From the above data we can see the following:\n",
    "\n",
    "- 'vote' maybe contains alot of NaN\n",
    "- 'reviewTime' and 'unixReviewTime' probably offer the same information\n",
    "- 'style' doesn't seem to offer valuable information\n",
    "- 'reviewerName' is not needed since we have reviwerID\n",
    "- 'image' is also not needed since we will not be analyzing any images from reviewers\n",
    "\n",
    "Therefore, these columns will be dropped upon further investigation."
   ]
  },
  {
   "cell_type": "code",
   "execution_count": 7,
   "metadata": {},
   "outputs": [
    {
     "name": "stdout",
     "output_type": "stream",
     "text": [
      "Unique Reviews:\n",
      "[5 4 3 1 2]\n",
      "\n",
      "\n",
      "5    416288\n",
      "4     75476\n",
      "1     59627\n",
      "3     30652\n",
      "2     20734\n",
      "Name: overall, dtype: int64\n"
     ]
    }
   ],
   "source": [
    "#check the review ranges - should be 1 to 5\n",
    "#check the frequency of each rating\n",
    "print('Unique Reviews:')\n",
    "print(review_df['overall'].unique())\n",
    "print('\\n')\n",
    "print(review_df['overall'].value_counts())"
   ]
  },
  {
   "cell_type": "code",
   "execution_count": 8,
   "metadata": {},
   "outputs": [
    {
     "data": {
      "text/html": [
       "<div>\n",
       "<style scoped>\n",
       "    .dataframe tbody tr th:only-of-type {\n",
       "        vertical-align: middle;\n",
       "    }\n",
       "\n",
       "    .dataframe tbody tr th {\n",
       "        vertical-align: top;\n",
       "    }\n",
       "\n",
       "    .dataframe thead th {\n",
       "        text-align: right;\n",
       "    }\n",
       "</style>\n",
       "<table border=\"1\" class=\"dataframe\">\n",
       "  <thead>\n",
       "    <tr style=\"text-align: right;\">\n",
       "      <th></th>\n",
       "      <th>count</th>\n",
       "      <th>%</th>\n",
       "    </tr>\n",
       "  </thead>\n",
       "  <tbody>\n",
       "    <tr>\n",
       "      <th>image</th>\n",
       "      <td>593519</td>\n",
       "      <td>98.464109</td>\n",
       "    </tr>\n",
       "    <tr>\n",
       "      <th>vote</th>\n",
       "      <td>537515</td>\n",
       "      <td>89.173110</td>\n",
       "    </tr>\n",
       "    <tr>\n",
       "      <th>style</th>\n",
       "      <td>464804</td>\n",
       "      <td>77.110441</td>\n",
       "    </tr>\n",
       "    <tr>\n",
       "      <th>reviewText</th>\n",
       "      <td>324</td>\n",
       "      <td>0.053751</td>\n",
       "    </tr>\n",
       "    <tr>\n",
       "      <th>summary</th>\n",
       "      <td>128</td>\n",
       "      <td>0.021235</td>\n",
       "    </tr>\n",
       "    <tr>\n",
       "      <th>reviewerName</th>\n",
       "      <td>15</td>\n",
       "      <td>0.002488</td>\n",
       "    </tr>\n",
       "    <tr>\n",
       "      <th>overall</th>\n",
       "      <td>0</td>\n",
       "      <td>0.000000</td>\n",
       "    </tr>\n",
       "    <tr>\n",
       "      <th>verified</th>\n",
       "      <td>0</td>\n",
       "      <td>0.000000</td>\n",
       "    </tr>\n",
       "    <tr>\n",
       "      <th>reviewTime</th>\n",
       "      <td>0</td>\n",
       "      <td>0.000000</td>\n",
       "    </tr>\n",
       "    <tr>\n",
       "      <th>reviewerID</th>\n",
       "      <td>0</td>\n",
       "      <td>0.000000</td>\n",
       "    </tr>\n",
       "    <tr>\n",
       "      <th>asin</th>\n",
       "      <td>0</td>\n",
       "      <td>0.000000</td>\n",
       "    </tr>\n",
       "    <tr>\n",
       "      <th>unixReviewTime</th>\n",
       "      <td>0</td>\n",
       "      <td>0.000000</td>\n",
       "    </tr>\n",
       "  </tbody>\n",
       "</table>\n",
       "</div>"
      ],
      "text/plain": [
       "                 count          %\n",
       "image           593519  98.464109\n",
       "vote            537515  89.173110\n",
       "style           464804  77.110441\n",
       "reviewText         324   0.053751\n",
       "summary            128   0.021235\n",
       "reviewerName        15   0.002488\n",
       "overall              0   0.000000\n",
       "verified             0   0.000000\n",
       "reviewTime           0   0.000000\n",
       "reviewerID           0   0.000000\n",
       "asin                 0   0.000000\n",
       "unixReviewTime       0   0.000000"
      ]
     },
     "execution_count": 8,
     "metadata": {},
     "output_type": "execute_result"
    }
   ],
   "source": [
    "#calculate the number of NULL values and their % across all columns \n",
    "missing = pd.concat([review_df.isnull().sum(), 100 * review_df.isnull().mean()], axis=1)\n",
    "missing.columns=['count', '%']\n",
    "missing.sort_values(by='count', ascending=False)"
   ]
  },
  {
   "cell_type": "code",
   "execution_count": 9,
   "metadata": {},
   "outputs": [],
   "source": [
    "#delete style, reviewrName, image\n",
    "#drop vote column since it's not needed and has 537515 NaN values\n",
    "#create a list of the columns we want to keep\n",
    "col = ['overall', 'verified', 'reviewTime', 'reviewerID', 'asin',\n",
    "       'reviewText', 'summary', 'unixReviewTime']\n",
    "review_df = review_df[col]"
   ]
  },
  {
   "cell_type": "markdown",
   "metadata": {},
   "source": [
    "#### Cleanup the date columns"
   ]
  },
  {
   "cell_type": "code",
   "execution_count": 10,
   "metadata": {},
   "outputs": [],
   "source": [
    "#conver unixreviewtime to datetime dtype\n",
    "from datetime import datetime\n",
    "\n",
    "condition = lambda row: datetime.fromtimestamp(row).strftime('%m-%d-%Y')\n",
    "review_df['unixReviewTime'] = review_df['unixReviewTime'].apply(condition)\n",
    "\n",
    "#rename unixReviewTime to reviewDate\n",
    "review_df.rename(columns={'unixReviewTime': 'reviewDate'}, inplace=True)\n",
    "\n",
    "#delete reviewTime column \n",
    "del review_df['reviewTime']"
   ]
  },
  {
   "cell_type": "code",
   "execution_count": 11,
   "metadata": {},
   "outputs": [],
   "source": [
    "# add column for month and yead extracted from reviewDate column\n",
    "review_df['year'] = pd.DatetimeIndex(review_df['reviewDate']).year\n",
    "review_df['month'] = pd.DatetimeIndex(review_df['reviewDate']).month"
   ]
  },
  {
   "cell_type": "code",
   "execution_count": 12,
   "metadata": {},
   "outputs": [
    {
     "name": "stdout",
     "output_type": "stream",
     "text": [
      "<class 'pandas.core.frame.DataFrame'>\n",
      "RangeIndex: 602777 entries, 0 to 602776\n",
      "Data columns (total 9 columns):\n",
      " #   Column      Non-Null Count   Dtype \n",
      "---  ------      --------------   ----- \n",
      " 0   overall     602777 non-null  int64 \n",
      " 1   verified    602777 non-null  bool  \n",
      " 2   reviewerID  602777 non-null  object\n",
      " 3   asin        602777 non-null  object\n",
      " 4   reviewText  602453 non-null  object\n",
      " 5   summary     602649 non-null  object\n",
      " 6   reviewDate  602777 non-null  object\n",
      " 7   year        602777 non-null  int64 \n",
      " 8   month       602777 non-null  int64 \n",
      "dtypes: bool(1), int64(3), object(5)\n",
      "memory usage: 37.4+ MB\n"
     ]
    }
   ],
   "source": [
    "#check the columns in the dataset\n",
    "review_df.info()"
   ]
  },
  {
   "cell_type": "markdown",
   "metadata": {},
   "source": [
    "#### Delete duplicates and Nulls"
   ]
  },
  {
   "cell_type": "markdown",
   "metadata": {},
   "source": [
    "reviewText and summary columns may be used for NLP if time allows - therefore we will drop the rows with NA values - only 0.05 for review test and 0.02% for summary - both combined if the missing columns don't overlap will decrease our dataset by 0.07%"
   ]
  },
  {
   "cell_type": "code",
   "execution_count": 13,
   "metadata": {},
   "outputs": [],
   "source": [
    "#delete rows with Null values from reviewText and summary\n",
    "review_df.dropna(subset=['reviewText','summary'], inplace=True)"
   ]
  },
  {
   "cell_type": "code",
   "execution_count": 14,
   "metadata": {},
   "outputs": [
    {
     "name": "stdout",
     "output_type": "stream",
     "text": [
      "Number of duplicate rows:11423\n"
     ]
    }
   ],
   "source": [
    "#check how many duplicate rows\n",
    "print('Number of duplicate rows:' + str(review_df.duplicated().sum()))"
   ]
  },
  {
   "cell_type": "code",
   "execution_count": 15,
   "metadata": {},
   "outputs": [],
   "source": [
    "#drop duplicates\n",
    "review_df = review_df.drop_duplicates()"
   ]
  },
  {
   "cell_type": "code",
   "execution_count": 16,
   "metadata": {},
   "outputs": [],
   "source": [
    "#reset index after dropping duplicates\n",
    "review_df = review_df.reset_index(drop = True)"
   ]
  },
  {
   "cell_type": "code",
   "execution_count": 17,
   "metadata": {},
   "outputs": [
    {
     "data": {
      "text/plain": [
       "(590917, 9)"
      ]
     },
     "execution_count": 17,
     "metadata": {},
     "output_type": "execute_result"
    }
   ],
   "source": [
    "review_df.shape"
   ]
  },
  {
   "cell_type": "markdown",
   "metadata": {},
   "source": [
    "#### Extract values from other columns "
   ]
  },
  {
   "cell_type": "code",
   "execution_count": 18,
   "metadata": {},
   "outputs": [
    {
     "data": {
      "text/plain": [
       "B000AST3AK    6509\n",
       "B004UB1O9Q    5698\n",
       "B00KJ07SEM    3199\n",
       "B0045LLC7K    2933\n",
       "B001B35APA    2481\n",
       "              ... \n",
       "B00BLDHLN4       1\n",
       "B01A9K0X9I       1\n",
       "B001HOIZO6       1\n",
       "B00LOX1NZS       1\n",
       "B007QAKXV8       1\n",
       "Name: asin, Length: 30241, dtype: int64"
      ]
     },
     "execution_count": 18,
     "metadata": {},
     "output_type": "execute_result"
    }
   ],
   "source": [
    "#how many times was each product(asin) reviewed?\n",
    "review_df.asin.value_counts()"
   ]
  },
  {
   "cell_type": "code",
   "execution_count": 19,
   "metadata": {},
   "outputs": [
    {
     "data": {
      "text/plain": [
       "asin\n",
       "1118461304    4.600000\n",
       "1906487049    4.666667\n",
       "6040985461    5.000000\n",
       "7301113188    5.000000\n",
       "7861850250    3.000000\n",
       "                ...   \n",
       "B01HJH651Y    3.666667\n",
       "B01HJH6JT2    5.000000\n",
       "B01HJH92JQ    2.000000\n",
       "B01HJHHEA0    3.500000\n",
       "B01HJHHQM6    5.000000\n",
       "Name: overall, Length: 30241, dtype: float64"
      ]
     },
     "execution_count": 19,
     "metadata": {},
     "output_type": "execute_result"
    }
   ],
   "source": [
    "#calculate mean average for each product\n",
    "review_df.groupby('asin')['overall'].mean()"
   ]
  },
  {
   "cell_type": "markdown",
   "metadata": {},
   "source": [
    "Having the total number of reviews for each product and the overall rating for all reviews will be useful so we will add those columns "
   ]
  },
  {
   "cell_type": "code",
   "execution_count": 20,
   "metadata": {},
   "outputs": [],
   "source": [
    "#caculate reviewCount for each product and merge the data to review_df\n",
    "reviewCount = review_df.asin.value_counts().rename('reviewCount')\n",
    "review_df = review_df.merge(reviewCount.to_frame(), left_on = 'asin', right_index=True)"
   ]
  },
  {
   "cell_type": "code",
   "execution_count": 21,
   "metadata": {},
   "outputs": [],
   "source": [
    "#caculate avgReview for each product and merge the data to review_df\n",
    "avgReview = review_df.groupby('asin')['overall'].mean().rename('avgReview')\n",
    "review_df = review_df.merge(avgReview.to_frame(), left_on = 'asin', right_index=True)"
   ]
  },
  {
   "cell_type": "markdown",
   "metadata": {},
   "source": [
    "#### Some more tidying \n",
    "\n",
    "Here we'll delete all rows with less than 50 reviews - but first we'll check how much of our data will be lost by doing so. "
   ]
  },
  {
   "cell_type": "code",
   "execution_count": 23,
   "metadata": {},
   "outputs": [
    {
     "data": {
      "text/plain": [
       "overall        495819\n",
       "verified       495819\n",
       "reviewerID     495819\n",
       "asin           495819\n",
       "reviewText     495819\n",
       "summary        495819\n",
       "reviewDate     495819\n",
       "year           495819\n",
       "month          495819\n",
       "reviewCount    495819\n",
       "avgReview      495819\n",
       "dtype: int64"
      ]
     },
     "execution_count": 23,
     "metadata": {},
     "output_type": "execute_result"
    }
   ],
   "source": [
    "review_df[review_df['reviewCount'] >= 20].count()"
   ]
  },
  {
   "cell_type": "markdown",
   "metadata": {},
   "source": [
    "Deleting all reviews for products with less than 50 will still allow us to retain 84% of our dataset and we end up with 495,819 rows. "
   ]
  },
  {
   "cell_type": "code",
   "execution_count": 24,
   "metadata": {},
   "outputs": [],
   "source": [
    "review_df = review_df[review_df['reviewCount'] >= 20]"
   ]
  },
  {
   "cell_type": "code",
   "execution_count": 25,
   "metadata": {},
   "outputs": [
    {
     "data": {
      "text/plain": [
       "(495819, 11)"
      ]
     },
     "execution_count": 25,
     "metadata": {},
     "output_type": "execute_result"
    }
   ],
   "source": [
    "review_df.shape"
   ]
  },
  {
   "cell_type": "code",
   "execution_count": 27,
   "metadata": {},
   "outputs": [],
   "source": [
    "review_df = review_df.reset_index(drop = True)"
   ]
  },
  {
   "cell_type": "code",
   "execution_count": 28,
   "metadata": {},
   "outputs": [
    {
     "data": {
      "text/html": [
       "<div>\n",
       "<style scoped>\n",
       "    .dataframe tbody tr th:only-of-type {\n",
       "        vertical-align: middle;\n",
       "    }\n",
       "\n",
       "    .dataframe tbody tr th {\n",
       "        vertical-align: top;\n",
       "    }\n",
       "\n",
       "    .dataframe thead th {\n",
       "        text-align: right;\n",
       "    }\n",
       "</style>\n",
       "<table border=\"1\" class=\"dataframe\">\n",
       "  <thead>\n",
       "    <tr style=\"text-align: right;\">\n",
       "      <th></th>\n",
       "      <th>overall</th>\n",
       "      <th>verified</th>\n",
       "      <th>reviewerID</th>\n",
       "      <th>asin</th>\n",
       "      <th>reviewText</th>\n",
       "      <th>summary</th>\n",
       "      <th>reviewDate</th>\n",
       "      <th>year</th>\n",
       "      <th>month</th>\n",
       "      <th>reviewCount</th>\n",
       "      <th>avgReview</th>\n",
       "    </tr>\n",
       "  </thead>\n",
       "  <tbody>\n",
       "    <tr>\n",
       "      <th>70725</th>\n",
       "      <td>4</td>\n",
       "      <td>True</td>\n",
       "      <td>A2YIBBPK6JFVQC</td>\n",
       "      <td>B001AAEG6S</td>\n",
       "      <td>I rated this 4 stars out of 5 because, as othe...</td>\n",
       "      <td>Gets the job done</td>\n",
       "      <td>12-14-2013</td>\n",
       "      <td>2013</td>\n",
       "      <td>12</td>\n",
       "      <td>330</td>\n",
       "      <td>4.087879</td>\n",
       "    </tr>\n",
       "    <tr>\n",
       "      <th>91575</th>\n",
       "      <td>1</td>\n",
       "      <td>True</td>\n",
       "      <td>A2W0SON0J5MTHX</td>\n",
       "      <td>B001TH7H04</td>\n",
       "      <td>The ones I received were not the same as the o...</td>\n",
       "      <td>The ones I received were not the same as the ...</td>\n",
       "      <td>11-07-2016</td>\n",
       "      <td>2016</td>\n",
       "      <td>11</td>\n",
       "      <td>1665</td>\n",
       "      <td>3.971772</td>\n",
       "    </tr>\n",
       "    <tr>\n",
       "      <th>368550</th>\n",
       "      <td>5</td>\n",
       "      <td>True</td>\n",
       "      <td>AA0QHPK9T7LA2</td>\n",
       "      <td>B00QFVF3IC</td>\n",
       "      <td>No issues, works great with my fridge.</td>\n",
       "      <td>works great with my fridge</td>\n",
       "      <td>09-09-2017</td>\n",
       "      <td>2017</td>\n",
       "      <td>9</td>\n",
       "      <td>303</td>\n",
       "      <td>4.716172</td>\n",
       "    </tr>\n",
       "    <tr>\n",
       "      <th>363715</th>\n",
       "      <td>5</td>\n",
       "      <td>True</td>\n",
       "      <td>A3ORXEXUEMRWCG</td>\n",
       "      <td>B00OP8991Y</td>\n",
       "      <td>No more leaks</td>\n",
       "      <td>Worked as expected</td>\n",
       "      <td>03-17-2015</td>\n",
       "      <td>2015</td>\n",
       "      <td>3</td>\n",
       "      <td>450</td>\n",
       "      <td>4.540000</td>\n",
       "    </tr>\n",
       "    <tr>\n",
       "      <th>234683</th>\n",
       "      <td>4</td>\n",
       "      <td>True</td>\n",
       "      <td>A13O00R43MQJ1C</td>\n",
       "      <td>B00CDWTQKI</td>\n",
       "      <td>It's like a salad spinner for clothes.</td>\n",
       "      <td>Does what it's supposed to.</td>\n",
       "      <td>01-31-2017</td>\n",
       "      <td>2017</td>\n",
       "      <td>1</td>\n",
       "      <td>625</td>\n",
       "      <td>4.513600</td>\n",
       "    </tr>\n",
       "    <tr>\n",
       "      <th>4433</th>\n",
       "      <td>5</td>\n",
       "      <td>True</td>\n",
       "      <td>A3IA6MZ6LPX12Q</td>\n",
       "      <td>B0000CFPK8</td>\n",
       "      <td>Cock a doodle do! Love the burner covers...Loo...</td>\n",
       "      <td>Cock a doodle do!</td>\n",
       "      <td>05-03-2015</td>\n",
       "      <td>2015</td>\n",
       "      <td>5</td>\n",
       "      <td>1262</td>\n",
       "      <td>4.358954</td>\n",
       "    </tr>\n",
       "    <tr>\n",
       "      <th>288987</th>\n",
       "      <td>5</td>\n",
       "      <td>True</td>\n",
       "      <td>A2BA4PXOJTLTV1</td>\n",
       "      <td>B00ES4XO98</td>\n",
       "      <td>Fits like a dream in my fridge! Took longer to...</td>\n",
       "      <td>It's a switch, and it works.</td>\n",
       "      <td>08-08-2015</td>\n",
       "      <td>2015</td>\n",
       "      <td>8</td>\n",
       "      <td>99</td>\n",
       "      <td>4.646465</td>\n",
       "    </tr>\n",
       "    <tr>\n",
       "      <th>366100</th>\n",
       "      <td>5</td>\n",
       "      <td>True</td>\n",
       "      <td>A11O9H4ACDLO9H</td>\n",
       "      <td>B00PGFGVB6</td>\n",
       "      <td>This product works great! It is designed to cr...</td>\n",
       "      <td>Great product!</td>\n",
       "      <td>04-01-2015</td>\n",
       "      <td>2015</td>\n",
       "      <td>4</td>\n",
       "      <td>122</td>\n",
       "      <td>2.959016</td>\n",
       "    </tr>\n",
       "    <tr>\n",
       "      <th>267372</th>\n",
       "      <td>5</td>\n",
       "      <td>True</td>\n",
       "      <td>AX263PUA0NU9A</td>\n",
       "      <td>B00DZU8M9I</td>\n",
       "      <td>Exactly what I needed.</td>\n",
       "      <td>Five Stars</td>\n",
       "      <td>11-01-2016</td>\n",
       "      <td>2016</td>\n",
       "      <td>11</td>\n",
       "      <td>349</td>\n",
       "      <td>4.638968</td>\n",
       "    </tr>\n",
       "    <tr>\n",
       "      <th>495074</th>\n",
       "      <td>5</td>\n",
       "      <td>True</td>\n",
       "      <td>A26E9ODCYOLF0D</td>\n",
       "      <td>B01HBPGP28</td>\n",
       "      <td>Great  replacement for my GE refrigerator , A ...</td>\n",
       "      <td>Great replacement for my GE refrigerator</td>\n",
       "      <td>04-16-2017</td>\n",
       "      <td>2017</td>\n",
       "      <td>4</td>\n",
       "      <td>482</td>\n",
       "      <td>4.502075</td>\n",
       "    </tr>\n",
       "  </tbody>\n",
       "</table>\n",
       "</div>"
      ],
      "text/plain": [
       "        overall  verified      reviewerID        asin  \\\n",
       "70725         4      True  A2YIBBPK6JFVQC  B001AAEG6S   \n",
       "91575         1      True  A2W0SON0J5MTHX  B001TH7H04   \n",
       "368550        5      True   AA0QHPK9T7LA2  B00QFVF3IC   \n",
       "363715        5      True  A3ORXEXUEMRWCG  B00OP8991Y   \n",
       "234683        4      True  A13O00R43MQJ1C  B00CDWTQKI   \n",
       "4433          5      True  A3IA6MZ6LPX12Q  B0000CFPK8   \n",
       "288987        5      True  A2BA4PXOJTLTV1  B00ES4XO98   \n",
       "366100        5      True  A11O9H4ACDLO9H  B00PGFGVB6   \n",
       "267372        5      True   AX263PUA0NU9A  B00DZU8M9I   \n",
       "495074        5      True  A26E9ODCYOLF0D  B01HBPGP28   \n",
       "\n",
       "                                               reviewText  \\\n",
       "70725   I rated this 4 stars out of 5 because, as othe...   \n",
       "91575   The ones I received were not the same as the o...   \n",
       "368550             No issues, works great with my fridge.   \n",
       "363715                                      No more leaks   \n",
       "234683             It's like a salad spinner for clothes.   \n",
       "4433    Cock a doodle do! Love the burner covers...Loo...   \n",
       "288987  Fits like a dream in my fridge! Took longer to...   \n",
       "366100  This product works great! It is designed to cr...   \n",
       "267372                             Exactly what I needed.   \n",
       "495074  Great  replacement for my GE refrigerator , A ...   \n",
       "\n",
       "                                                 summary  reviewDate  year  \\\n",
       "70725                                  Gets the job done  12-14-2013  2013   \n",
       "91575   The ones I received were not the same as the ...  11-07-2016  2016   \n",
       "368550                        works great with my fridge  09-09-2017  2017   \n",
       "363715                                Worked as expected  03-17-2015  2015   \n",
       "234683                       Does what it's supposed to.  01-31-2017  2017   \n",
       "4433                                   Cock a doodle do!  05-03-2015  2015   \n",
       "288987                      It's a switch, and it works.  08-08-2015  2015   \n",
       "366100                                    Great product!  04-01-2015  2015   \n",
       "267372                                        Five Stars  11-01-2016  2016   \n",
       "495074          Great replacement for my GE refrigerator  04-16-2017  2017   \n",
       "\n",
       "        month  reviewCount  avgReview  \n",
       "70725      12          330   4.087879  \n",
       "91575      11         1665   3.971772  \n",
       "368550      9          303   4.716172  \n",
       "363715      3          450   4.540000  \n",
       "234683      1          625   4.513600  \n",
       "4433        5         1262   4.358954  \n",
       "288987      8           99   4.646465  \n",
       "366100      4          122   2.959016  \n",
       "267372     11          349   4.638968  \n",
       "495074      4          482   4.502075  "
      ]
     },
     "execution_count": 28,
     "metadata": {},
     "output_type": "execute_result"
    }
   ],
   "source": [
    "review_df.sample(10)"
   ]
  }
 ],
 "metadata": {
  "kernelspec": {
   "display_name": "Python 3",
   "language": "python",
   "name": "python3"
  },
  "language_info": {
   "codemirror_mode": {
    "name": "ipython",
    "version": 3
   },
   "file_extension": ".py",
   "mimetype": "text/x-python",
   "name": "python",
   "nbconvert_exporter": "python",
   "pygments_lexer": "ipython3",
   "version": "3.8.3"
  }
 },
 "nbformat": 4,
 "nbformat_minor": 4
}
